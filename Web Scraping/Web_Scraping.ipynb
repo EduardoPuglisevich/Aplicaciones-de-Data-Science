{
  "nbformat": 4,
  "nbformat_minor": 0,
  "metadata": {
    "colab": {
      "provenance": []
    },
    "kernelspec": {
      "name": "python3",
      "display_name": "Python 3"
    },
    "language_info": {
      "name": "python"
    }
  },
  "cells": [
    {
      "cell_type": "markdown",
      "source": [
        "# **TRABAJO PARCIAL: WEB SCRAPPING**\n",
        "\n",
        "> Curso: APLICACIONES DE DATA SCIENCE\n",
        "\n",
        "> Integrantes:\n",
        "*   Puglisevich Vergara, Eduardo Elias (U20201E850)\n",
        "*   Cano Chocce, Samuel Esteban (U202116508)\n",
        "*   Nicolás Guerrero (U202115535)\n",
        "\n",
        "> Seccion: CC92"
      ],
      "metadata": {
        "id": "TVq2rcU1Ta4l"
      }
    },
    {
      "cell_type": "code",
      "execution_count": null,
      "metadata": {
        "id": "S8LSPaQbxqqn"
      },
      "outputs": [],
      "source": [
        "from bs4 import BeautifulSoup\n",
        "import requests\n",
        "import pandas as pd\n",
        "import numpy as np\n"
      ]
    },
    {
      "cell_type": "code",
      "source": [
        "URL_BASE = \"https://repositorioacademico.upc.edu.pe/handle/10757/621410\"\n",
        "pedido_obtenido = requests.get(URL_BASE)\n",
        "html_obtenido = pedido_obtenido.text\n",
        "soup = BeautifulSoup(html_obtenido, \"html.parser\")"
      ],
      "metadata": {
        "id": "g5EPhji6dOTF"
      },
      "execution_count": null,
      "outputs": []
    },
    {
      "cell_type": "code",
      "source": [
        "Facultades = soup.find_all('h4', class_=\"artifact-title\")\n",
        "DictFacultades = dict()\n",
        "for f in Facultades:\n",
        "  DictFacultades[f.a.span.get_text(strip=True)] = [f.a[\"href\"],dict()]"
      ],
      "metadata": {
        "id": "PYhu42q4fuqx"
      },
      "execution_count": null,
      "outputs": []
    },
    {
      "cell_type": "code",
      "source": [
        "for k,v in DictFacultades.items():\n",
        "  URL_CA = \"https://repositorioacademico.upc.edu.pe\" + v[0]\n",
        "  print(URL_CA)\n",
        "  pedido_obtenido = requests.get(URL_CA)\n",
        "  html_obtenido = pedido_obtenido.text\n",
        "  soup = BeautifulSoup(html_obtenido, \"html.parser\")\n",
        "  Carreras = soup.find_all('h4', class_=\"artifact-title\")\n",
        "  for c in Carreras:\n",
        "    DictFacultades[k][1][c.a.span.get_text(strip=True)] = c.a[\"href\"]+\"/recent-submissions?offset=\""
      ],
      "metadata": {
        "colab": {
          "base_uri": "https://localhost:8080/"
        },
        "id": "tm2XoQbuhT4k",
        "outputId": "a292f911-0ebf-423a-eb07-3f2ca7004877"
      },
      "execution_count": null,
      "outputs": [
        {
          "output_type": "stream",
          "name": "stdout",
          "text": [
            "https://repositorioacademico.upc.edu.pe/handle/10757/621411\n",
            "https://repositorioacademico.upc.edu.pe/handle/10757/621414\n",
            "https://repositorioacademico.upc.edu.pe/handle/10757/621441\n",
            "https://repositorioacademico.upc.edu.pe/handle/10757/621447\n",
            "https://repositorioacademico.upc.edu.pe/handle/10757/621445\n",
            "https://repositorioacademico.upc.edu.pe/handle/10757/621574\n",
            "https://repositorioacademico.upc.edu.pe/handle/10757/621580\n",
            "https://repositorioacademico.upc.edu.pe/handle/10757/625049\n",
            "https://repositorioacademico.upc.edu.pe/handle/10757/621582\n",
            "https://repositorioacademico.upc.edu.pe/handle/10757/635432\n",
            "https://repositorioacademico.upc.edu.pe/handle/10757/621585\n",
            "https://repositorioacademico.upc.edu.pe/handle/10757/621592\n",
            "https://repositorioacademico.upc.edu.pe/handle/10757/621443\n"
          ]
        }
      ]
    },
    {
      "cell_type": "code",
      "source": [
        "df = pd.DataFrame(columns = [\"Titulo\",\"Autor/es\",\"Resumen\",\"Facultad\",\"Carrera\"])\n",
        "Titulo = []\n",
        "Autor = []\n",
        "Resumen = []\n",
        "Facultad = []\n",
        "Carrera = []\n",
        "for K,V in DictFacultades.items():\n",
        "  carrera = V[1]\n",
        "  for k,v in carrera.items():\n",
        "    j = 0\n",
        "    flag = True\n",
        "    while (flag):\n",
        "      URL_CA = \"https://repositorioacademico.upc.edu.pe\" + v + str(j)\n",
        "      print(URL_CA)\n",
        "      pedido_obtenido = requests.get(URL_CA)\n",
        "      html_obtenido = pedido_obtenido.text\n",
        "      soup = BeautifulSoup(html_obtenido, \"html.parser\")\n",
        "      Textos = soup.find_all('div', class_=\"artifact-description discover-page\")\n",
        "      if (Textos == []):\n",
        "        flag = False\n",
        "      else:\n",
        "        titulo = soup.find_all('div', class_=\"list-title-clamper\")\n",
        "        autor = soup.find_all('span', class_=\"author h4\")\n",
        "        res = soup.find_all('div', class_=\"list-text-clamper clamped\")\n",
        "        for i in range(len(autor)):\n",
        "          Titulo.append(titulo[i].get_text(strip=True))\n",
        "          Autor.append(autor[i].get_text(strip=True))\n",
        "          Resumen.append(res[i].get_text(strip=True).replace('\\n','').replace('\\r',''))\n",
        "          Facultad.append(K)\n",
        "          Carrera.append(k)\n",
        "        j += 20"
      ],
      "metadata": {
        "id": "yzV7maC4lC_z"
      },
      "execution_count": null,
      "outputs": []
    },
    {
      "cell_type": "code",
      "source": [
        "df[\"Titulo\"] = Titulo\n",
        "df[\"Autor/es\"] = Autor\n",
        "df[\"Resumen\"] = Resumen\n",
        "df[\"Facultad\"] = Facultad\n",
        "df[\"Carrera\"] = Carrera"
      ],
      "metadata": {
        "id": "tr5WqlmpTMeV"
      },
      "execution_count": null,
      "outputs": []
    },
    {
      "cell_type": "code",
      "source": [
        "df.to_csv('data.csv',index = True)"
      ],
      "metadata": {
        "id": "rUuw3-EUTvO5"
      },
      "execution_count": null,
      "outputs": []
    }
  ]
}